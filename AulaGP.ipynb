{
  "nbformat": 4,
  "nbformat_minor": 0,
  "metadata": {
    "colab": {
      "name": "Untitled4.ipynb",
      "provenance": [],
      "collapsed_sections": [],
      "authorship_tag": "ABX9TyN35Tj3eCbFqwdO7M5HB1Q8",
      "include_colab_link": true
    },
    "kernelspec": {
      "name": "python3",
      "display_name": "Python 3"
    },
    "language_info": {
      "name": "python"
    }
  },
  "cells": [
    {
      "cell_type": "markdown",
      "metadata": {
        "id": "view-in-github",
        "colab_type": "text"
      },
      "source": [
        "<a href=\"https://colab.research.google.com/github/vertinho0/teste/blob/main/AulaGP.ipynb\" target=\"_parent\"><img src=\"https://colab.research.google.com/assets/colab-badge.svg\" alt=\"Open In Colab\"/></a>"
      ]
    },
    {
      "cell_type": "code",
      "metadata": {
        "colab": {
          "base_uri": "https://localhost:8080/"
        },
        "id": "xNGl_X1-vADg",
        "outputId": "adb1645e-a844-47f4-c503-c5cc7fc5abd0"
      },
      "source": [
        "#algoritimo de calculo de potência\n",
        "\n",
        "valor1 = int(input(\"digite o primeiro numero: \"))\n",
        "valor2 = int(input(\"digite o segundo numero: \"))\n",
        "\n",
        "\"\"\" comentarios \"\"\"\n",
        "\n",
        "resultado = valor1**valor2\n",
        "\n",
        "print(\"O resultado da pontência de \", valor1, \"elevado á \", valor2 , \"é igual a: \", resultado)\n"
      ],
      "execution_count": 1,
      "outputs": [
        {
          "output_type": "stream",
          "name": "stdout",
          "text": [
            "digite o primeiro numero: 2\n",
            "digite o segundo numero: 2\n",
            "O resultado da pontência de  2 elevado á  2 é igual a:  4\n"
          ]
        }
      ]
    },
    {
      "cell_type": "code",
      "metadata": {
        "colab": {
          "base_uri": "https://localhost:8080/"
        },
        "id": "Ua6uakz17NXw",
        "outputId": "a17b89e3-5d24-42c4-e8c1-2e1b6164e908"
      },
      "source": [
        "aluno = input(\"Aluno, informe seu nome: \")\n",
        "ativ1 = int(input(\"digite a nota da primeira atividade: \"))\n",
        "ativ2 = int(input(\"digite a nota da segunda atividade: \"))\n",
        "prova = int(input(\"digite a nota da prova: \"))\n",
        "\n",
        "result = ((ativ1+ativ2)+prova)/2\n",
        "\n",
        "print(\"A média do aluno\", aluno ,\"é de: \", result)"
      ],
      "execution_count": 7,
      "outputs": [
        {
          "output_type": "stream",
          "name": "stdout",
          "text": [
            "Aluno, informe seu nome: Ewerton\n",
            "digite a nota da primeira atividade: 5\n",
            "digite a nota da segunda atividade: 5\n",
            "digite a nota da prova: 10\n",
            "A média do aluno Ewerton é de:  10.0\n"
          ]
        }
      ]
    }
  ]
}